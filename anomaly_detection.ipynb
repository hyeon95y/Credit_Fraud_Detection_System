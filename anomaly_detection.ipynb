{
 "cells": [
  {
   "cell_type": "code",
   "execution_count": 1,
   "metadata": {},
   "outputs": [],
   "source": [
    "%matplotlib inline\n",
    "%load_ext autoreload\n",
    "%autoreload 2"
   ]
  },
  {
   "cell_type": "code",
   "execution_count": 2,
   "metadata": {},
   "outputs": [],
   "source": [
    "import os\n",
    "\n",
    "import pandas as pd\n",
    "import numpy as np\n",
    "import matplotlib.pyplot as plt\n",
    "import seaborn as sns\n",
    "import copy\n",
    "import tqdm\n",
    "\n",
    "import torch\n",
    "from torch.utils.data import Dataset, DataLoader\n",
    "\n",
    "from sklearn.model_selection import train_test_split\n",
    "from sklearn.preprocessing import StandardScaler\n",
    "from sklearn.metrics import accuracy_score"
   ]
  },
  {
   "cell_type": "code",
   "execution_count": 3,
   "metadata": {},
   "outputs": [],
   "source": [
    "from models.vae_anomaly import VAE_ANOMALY, Trainer, TrainDataset, ValidDataset\n",
    "from visualize import show_auroc"
   ]
  },
  {
   "cell_type": "code",
   "execution_count": 4,
   "metadata": {},
   "outputs": [],
   "source": [
    "def classify(x, cutoff) :\n",
    "    if x >= cutoff :\n",
    "        return 1\n",
    "    else :\n",
    "        return 0\n",
    "    \n",
    "def equal_to_binary(x) :\n",
    "    if x == True :\n",
    "        return 0\n",
    "    elif x == False :\n",
    "        return 1\n",
    "    else : \n",
    "        return"
   ]
  },
  {
   "cell_type": "markdown",
   "metadata": {},
   "source": [
    "# Evaluation"
   ]
  },
  {
   "cell_type": "code",
   "execution_count": 5,
   "metadata": {},
   "outputs": [],
   "source": [
    "def evaluate(random_state, epochs) : \n",
    "\n",
    "    ################################################################################################################\n",
    "    # Split Dataset\n",
    "\n",
    "    batch_size = 32\n",
    "    device = torch.device('cuda:0' if torch.cuda.is_available() else 'cpu')\n",
    "    print(device)\n",
    "\n",
    "    df = pd.read_pickle('data/df_transactions.pkl')\n",
    "    display(df.head())\n",
    "\n",
    "    df = df.drop(['Time'], axis=1)\n",
    "    normal = df[df['Class']==0]\n",
    "    novel = df[df['Class']==1]\n",
    "\n",
    "    novel_train, novel_test = train_test_split(novel, train_size=0.1, random_state = random_state)\n",
    "\n",
    "    columns = normal.drop(['Class'], axis=1).columns\n",
    "\n",
    "    # x_train : normal + novetly to maximize loss\n",
    "    # x_valid : normal only\n",
    "    # x_test : normal + novelty\n",
    "\n",
    "    x_train, x_valid = train_test_split(normal, train_size=0.6, random_state = random_state)\n",
    "    x_valid, x_test = train_test_split(x_valid, train_size=0.5, random_state = random_state)\n",
    "\n",
    "    x_train = pd.concat([x_train, novel_train])\n",
    "    x_test = pd.concat([x_test, novel_test])\n",
    "\n",
    "    standard = StandardScaler()\n",
    "    x_train['Amount'] = standard.fit_transform(x_train['Amount'].values.reshape(-1, 1))\n",
    "    x_valid['Amount'] = standard.fit_transform(x_valid['Amount'].values.reshape(-1, 1))\n",
    "    x_test['Amount'] = standard.fit_transform(x_test['Amount'].values.reshape(-1, 1))\n",
    "\n",
    "    y_train = x_train['Class']\n",
    "    y_test = x_test['Class']\n",
    "    x_test = x_test.drop(['Class'], axis=1)\n",
    "    x_valid = x_valid.drop(['Class'], axis=1)\n",
    "    x_train = x_train.drop(['Class'], axis=1)\n",
    "\n",
    "    y_train = torch.from_numpy(y_train.values).float()\n",
    "    x_train = torch.from_numpy(x_train.values).float()\n",
    "    x_valid = torch.from_numpy(x_valid.values).float()\n",
    "    x_test = torch.from_numpy(x_test.values).float()\n",
    "\n",
    "    train_dataset = TrainDataset(x_train, y_train)\n",
    "    valid_dataset = ValidDataset(x_valid)\n",
    "\n",
    "    train_loader = DataLoader(train_dataset, batch_size = batch_size, shuffle=True)\n",
    "    valid_loader = DataLoader(valid_dataset, batch_size = batch_size, shuffle=True)\n",
    "\n",
    "    ################################################################################################################\n",
    "    # Train Model\n",
    "\n",
    "    model = VAE_ANOMALY().to(device)\n",
    "\n",
    "    trainer = Trainer(device, batch_size)\n",
    "    trainer.fit(model, train_loader, valid_loader, epochs)\n",
    "\n",
    "    x_test_hat = trainer.transform(x_test)\n",
    "    recon_error = ((x_test_hat.cpu().detach().numpy() - x_test.cpu().numpy()) ** 2).mean(axis=1)\n",
    "\n",
    "    cutoff = show_auroc(y_test.values, recon_error)\n",
    "    # Youden's J-Score\n",
    "    print(\"Youden's J-Score (optimal cutoff) : \", cutoff)\n",
    "\n",
    "    ################################################################################################################\n",
    "    # Check Result\n",
    "    df_test = pd.DataFrame(x_test.cpu().numpy())\n",
    "    df_test.columns = columns\n",
    "    df_test['Amount'] = standard.inverse_transform(df_test['Amount'])\n",
    "    df_test['ReconError'] = recon_error\n",
    "    df_test['Class'] = y_test.values\n",
    "    df_test['Prediction'] = df_test['ReconError'].apply(lambda x : classify(x, cutoff))\n",
    "    df_test['PredictionDiffersClass'] = (df_test['Class']==df_test['Prediction'])\n",
    "    df_test['PredictionDiffersClass'] = df_test['PredictionDiffersClass'].apply(lambda x : equal_to_binary(x))\n",
    "    df_test['Loss'] = df_test['Amount'] * df_test['PredictionDiffersClass']\n",
    "\n",
    "    plt.figure(figsize=(20, 5))\n",
    "    sns.distplot(df_test[df_test['Class']==0]['ReconError'], label='0', rug=True, bins=int(180/5))\n",
    "    sns.distplot(df_test[df_test['Class']==1]['ReconError'], label='1', rug=True, bins=int(180/5))\n",
    "    plt.legend(['0 : normal', '1 : novelty'])\n",
    "    plt.title('Distribution of 0 (normal) and 1 (abnormal)')\n",
    "    plt.show()\n",
    "    \n",
    "    accuracy = accuracy_score(df_test['Class'], df_test['Prediction'])\n",
    "    total_loss = df_test['Loss'].sum()\n",
    "\n",
    "    print('Accuracy : ', accuracy)\n",
    "    print('Total Loss : ', total_loss)\n",
    "    \n",
    "    return accuracy, total_loss"
   ]
  },
  {
   "cell_type": "markdown",
   "metadata": {},
   "source": [
    "# Novely Detection"
   ]
  },
  {
   "cell_type": "code",
   "execution_count": 6,
   "metadata": {},
   "outputs": [],
   "source": [
    "df = pd.DataFrame(columns=['Accuracy', 'TotalLoss'])"
   ]
  },
  {
   "cell_type": "code",
   "execution_count": 7,
   "metadata": {},
   "outputs": [
    {
     "name": "stdout",
     "output_type": "stream",
     "text": [
      "cuda:0\n"
     ]
    },
    {
     "data": {
      "text/html": [
       "<div>\n",
       "<style scoped>\n",
       "    .dataframe tbody tr th:only-of-type {\n",
       "        vertical-align: middle;\n",
       "    }\n",
       "\n",
       "    .dataframe tbody tr th {\n",
       "        vertical-align: top;\n",
       "    }\n",
       "\n",
       "    .dataframe thead th {\n",
       "        text-align: right;\n",
       "    }\n",
       "</style>\n",
       "<table border=\"1\" class=\"dataframe\">\n",
       "  <thead>\n",
       "    <tr style=\"text-align: right;\">\n",
       "      <th></th>\n",
       "      <th>Time</th>\n",
       "      <th>V1</th>\n",
       "      <th>V2</th>\n",
       "      <th>V3</th>\n",
       "      <th>V4</th>\n",
       "      <th>V5</th>\n",
       "      <th>V6</th>\n",
       "      <th>V7</th>\n",
       "      <th>V8</th>\n",
       "      <th>V9</th>\n",
       "      <th>...</th>\n",
       "      <th>V22</th>\n",
       "      <th>V23</th>\n",
       "      <th>V24</th>\n",
       "      <th>V25</th>\n",
       "      <th>V26</th>\n",
       "      <th>V27</th>\n",
       "      <th>V28</th>\n",
       "      <th>Amount</th>\n",
       "      <th>Class</th>\n",
       "      <th>FraudType</th>\n",
       "    </tr>\n",
       "  </thead>\n",
       "  <tbody>\n",
       "    <tr>\n",
       "      <td>0</td>\n",
       "      <td>0.0</td>\n",
       "      <td>-1.359807</td>\n",
       "      <td>-0.072781</td>\n",
       "      <td>2.536347</td>\n",
       "      <td>1.378155</td>\n",
       "      <td>-0.338321</td>\n",
       "      <td>0.462388</td>\n",
       "      <td>0.239599</td>\n",
       "      <td>0.098698</td>\n",
       "      <td>0.363787</td>\n",
       "      <td>...</td>\n",
       "      <td>0.277838</td>\n",
       "      <td>-0.110474</td>\n",
       "      <td>0.066928</td>\n",
       "      <td>0.128539</td>\n",
       "      <td>-0.189115</td>\n",
       "      <td>0.133558</td>\n",
       "      <td>-0.021053</td>\n",
       "      <td>149.62</td>\n",
       "      <td>0</td>\n",
       "      <td>-1</td>\n",
       "    </tr>\n",
       "    <tr>\n",
       "      <td>1</td>\n",
       "      <td>0.0</td>\n",
       "      <td>1.191857</td>\n",
       "      <td>0.266151</td>\n",
       "      <td>0.166480</td>\n",
       "      <td>0.448154</td>\n",
       "      <td>0.060018</td>\n",
       "      <td>-0.082361</td>\n",
       "      <td>-0.078803</td>\n",
       "      <td>0.085102</td>\n",
       "      <td>-0.255425</td>\n",
       "      <td>...</td>\n",
       "      <td>-0.638672</td>\n",
       "      <td>0.101288</td>\n",
       "      <td>-0.339846</td>\n",
       "      <td>0.167170</td>\n",
       "      <td>0.125895</td>\n",
       "      <td>-0.008983</td>\n",
       "      <td>0.014724</td>\n",
       "      <td>2.69</td>\n",
       "      <td>0</td>\n",
       "      <td>-1</td>\n",
       "    </tr>\n",
       "    <tr>\n",
       "      <td>2</td>\n",
       "      <td>1.0</td>\n",
       "      <td>-1.358354</td>\n",
       "      <td>-1.340163</td>\n",
       "      <td>1.773209</td>\n",
       "      <td>0.379780</td>\n",
       "      <td>-0.503198</td>\n",
       "      <td>1.800499</td>\n",
       "      <td>0.791461</td>\n",
       "      <td>0.247676</td>\n",
       "      <td>-1.514654</td>\n",
       "      <td>...</td>\n",
       "      <td>0.771679</td>\n",
       "      <td>0.909412</td>\n",
       "      <td>-0.689281</td>\n",
       "      <td>-0.327642</td>\n",
       "      <td>-0.139097</td>\n",
       "      <td>-0.055353</td>\n",
       "      <td>-0.059752</td>\n",
       "      <td>378.66</td>\n",
       "      <td>0</td>\n",
       "      <td>-1</td>\n",
       "    </tr>\n",
       "    <tr>\n",
       "      <td>3</td>\n",
       "      <td>1.0</td>\n",
       "      <td>-0.966272</td>\n",
       "      <td>-0.185226</td>\n",
       "      <td>1.792993</td>\n",
       "      <td>-0.863291</td>\n",
       "      <td>-0.010309</td>\n",
       "      <td>1.247203</td>\n",
       "      <td>0.237609</td>\n",
       "      <td>0.377436</td>\n",
       "      <td>-1.387024</td>\n",
       "      <td>...</td>\n",
       "      <td>0.005274</td>\n",
       "      <td>-0.190321</td>\n",
       "      <td>-1.175575</td>\n",
       "      <td>0.647376</td>\n",
       "      <td>-0.221929</td>\n",
       "      <td>0.062723</td>\n",
       "      <td>0.061458</td>\n",
       "      <td>123.50</td>\n",
       "      <td>0</td>\n",
       "      <td>-1</td>\n",
       "    </tr>\n",
       "    <tr>\n",
       "      <td>4</td>\n",
       "      <td>2.0</td>\n",
       "      <td>-1.158233</td>\n",
       "      <td>0.877737</td>\n",
       "      <td>1.548718</td>\n",
       "      <td>0.403034</td>\n",
       "      <td>-0.407193</td>\n",
       "      <td>0.095921</td>\n",
       "      <td>0.592941</td>\n",
       "      <td>-0.270533</td>\n",
       "      <td>0.817739</td>\n",
       "      <td>...</td>\n",
       "      <td>0.798278</td>\n",
       "      <td>-0.137458</td>\n",
       "      <td>0.141267</td>\n",
       "      <td>-0.206010</td>\n",
       "      <td>0.502292</td>\n",
       "      <td>0.219422</td>\n",
       "      <td>0.215153</td>\n",
       "      <td>69.99</td>\n",
       "      <td>0</td>\n",
       "      <td>-1</td>\n",
       "    </tr>\n",
       "  </tbody>\n",
       "</table>\n",
       "<p>5 rows × 32 columns</p>\n",
       "</div>"
      ],
      "text/plain": [
       "   Time        V1        V2        V3        V4        V5        V6        V7  \\\n",
       "0   0.0 -1.359807 -0.072781  2.536347  1.378155 -0.338321  0.462388  0.239599   \n",
       "1   0.0  1.191857  0.266151  0.166480  0.448154  0.060018 -0.082361 -0.078803   \n",
       "2   1.0 -1.358354 -1.340163  1.773209  0.379780 -0.503198  1.800499  0.791461   \n",
       "3   1.0 -0.966272 -0.185226  1.792993 -0.863291 -0.010309  1.247203  0.237609   \n",
       "4   2.0 -1.158233  0.877737  1.548718  0.403034 -0.407193  0.095921  0.592941   \n",
       "\n",
       "         V8        V9  ...       V22       V23       V24       V25       V26  \\\n",
       "0  0.098698  0.363787  ...  0.277838 -0.110474  0.066928  0.128539 -0.189115   \n",
       "1  0.085102 -0.255425  ... -0.638672  0.101288 -0.339846  0.167170  0.125895   \n",
       "2  0.247676 -1.514654  ...  0.771679  0.909412 -0.689281 -0.327642 -0.139097   \n",
       "3  0.377436 -1.387024  ...  0.005274 -0.190321 -1.175575  0.647376 -0.221929   \n",
       "4 -0.270533  0.817739  ...  0.798278 -0.137458  0.141267 -0.206010  0.502292   \n",
       "\n",
       "        V27       V28  Amount  Class  FraudType  \n",
       "0  0.133558 -0.021053  149.62      0         -1  \n",
       "1 -0.008983  0.014724    2.69      0         -1  \n",
       "2 -0.055353 -0.059752  378.66      0         -1  \n",
       "3  0.062723  0.061458  123.50      0         -1  \n",
       "4  0.219422  0.215153   69.99      0         -1  \n",
       "\n",
       "[5 rows x 32 columns]"
      ]
     },
     "metadata": {},
     "output_type": "display_data"
    },
    {
     "name": "stderr",
     "output_type": "stream",
     "text": [
      "Epoch: 100%|██████████| 1/1 [00:39<00:00, 39.52s/it]"
     ]
    },
    {
     "data": {
      "image/png": "[encoded data removed]",
      "text/plain": [
       "<Figure size 1440x360 with 1 Axes>"
      ]
     },
     "metadata": {
      "needs_background": "light"
     },
     "output_type": "display_data"
    },
    {
     "data": {
      "image/png": "[encoded data removed]",
      "text/plain": [
       "<Figure size 432x432 with 1 Axes>"
      ]
     },
     "metadata": {
      "needs_background": "light"
     },
     "output_type": "display_data"
    },
    {
     "name": "stdout",
     "output_type": "stream",
     "text": [
      "Youden's J-Score (optimal cutoff) :  2.0216093\n"
     ]
    },
    {
     "data": {
      "image/png": "[encoded data removed]",
      "text/plain": [
       "<Figure size 1440x360 with 1 Axes>"
      ]
     },
     "metadata": {
      "needs_background": "light"
     },
     "output_type": "display_data"
    },
    {
     "name": "stdout",
     "output_type": "stream",
     "text": [
      "Accuracy :  0.9408089903326005\n",
      "Total Loss :  1445151.9417656863\n"
     ]
    }
   ],
   "source": [
    "random_state = 0\n",
    "epochs = 1\n",
    "accuracy, total_loss = evaluate(random_state, epochs)\n",
    "df.loc[random_state] = [accuracy, total_loss]"
   ]
  }
 ],
 "metadata": {
  "kernelspec": {
   "display_name": "Python 3",
   "language": "python",
   "name": "python3"
  },
  "language_info": {
   "codemirror_mode": {
    "name": "ipython",
    "version": 3
   },
   "file_extension": ".py",
   "mimetype": "text/x-python",
   "name": "python",
   "nbconvert_exporter": "python",
   "pygments_lexer": "ipython3",
   "version": "3.6.8"
  }
 },
 "nbformat": 4,
 "nbformat_minor": 4
}
